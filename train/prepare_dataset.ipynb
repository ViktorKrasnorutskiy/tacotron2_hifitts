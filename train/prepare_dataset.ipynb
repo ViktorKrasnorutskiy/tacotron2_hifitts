{
 "cells": [
  {
   "cell_type": "code",
   "execution_count": null,
   "id": "a97f68f8",
   "metadata": {},
   "outputs": [],
   "source": [
    "hifitts_path = './hi_fi_tts_v0'"
   ]
  },
  {
   "cell_type": "markdown",
   "id": "a8182d5b",
   "metadata": {},
   "source": [
    "# Формирование единого датафрейма по всему датасету HiFiTTS"
   ]
  },
  {
   "cell_type": "code",
   "execution_count": null,
   "id": "1cdab6c9",
   "metadata": {},
   "outputs": [],
   "source": [
    "import sys\n",
    "sys.path.append('tacotron2/')\n",
    "from tacotron2.hparams import create_hparams\n",
    "from tacotron2.layers import TacotronSTFT\n",
    "import json\n",
    "import pandas as pd\n",
    "import os\n",
    "from io import BytesIO\n",
    "from scipy.io.wavfile import write\n",
    "\n",
    "\n",
    "hp = create_hparams()\n",
    "\n",
    "stft = TacotronSTFT(\n",
    "    hp.filter_length, \n",
    "    hp.hop_length, \n",
    "    hp.win_length,\n",
    "    hp.n_mel_channels, \n",
    "    hp.sampling_rate, \n",
    "    hp.mel_fmin,\n",
    "    hp.mel_fmax\n",
    ")\n",
    "\n",
    "def read_json(json_path):\n",
    "    dataset_type = json_path.split('_')[-1].replace('.json', '')\n",
    "    with open(json_path, encoding='utf-8') as f:\n",
    "        cond = \"[\" + f.read().replace(\"}\\n{\", \"},\\n{\") + \"]\"\n",
    "        json_data = json.loads(cond)\n",
    "        for item in json_data:\n",
    "            item['dataset_type'] = dataset_type\n",
    "    return json_data\n",
    "\n",
    "def flac_to_mel(load_flac_path, save_mel_path, dataset_type, txt_line):\n",
    "    flac_data, sample_rate = librosa.load(load_flac_path)\n",
    "    melspec_1 = librosa.feature.melspectrogram(y=flac_data,sr=sample_rate)\n",
    "    if melspec_1.shape[1] >= 1000:\n",
    "        return False\n",
    "    with open('./hifitts/' + dataset_type + '.txt', 'a') as f:\n",
    "        f.write(txt_line)\n",
    "    audio = librosa.feature.inverse.mel_to_audio(melspec_1, sr=sample_rate)\n",
    "    #sf.write(save_wav_path, audio, sample_rate)\n",
    "    buf = BytesIO()\n",
    "    write(buf, sample_rate, audio)\n",
    "    buffered_audio = buf.getvalue()\n",
    "    buf.close()\n",
    "    buf_data, sr = sf.read(buffered_audio)\n",
    "    floated_data = torch.FloatTensor(buf_data.astype(np.float32))\n",
    "    norm_data = floated_data / hp.max_wav_value\n",
    "    norm_data = norm_data.unsqueeze(0)\n",
    "    norm_data = torch.autograd.Variable(norm_data, requires_grad=False)\n",
    "    melspec_2 = stft.mel_spectrogram(norm_data)\n",
    "    melspec_2 = torch.squeeze(melspec_2, 0)\n",
    "    np.save(save_mel_path, melspec_2)"
   ]
  },
  {
   "cell_type": "code",
   "execution_count": null,
   "id": "5747ae3e",
   "metadata": {},
   "outputs": [],
   "source": [
    "manifests = [manifest for manifest in os.listdir(hifitts_path) if 'manifest' in manifest]\n",
    "manifest_paths = [f'{hifitts_path}/{manifest}' for manifest in manifests]\n",
    "manifest_jsons = [read_json(manifest_path) for manifest_path in manifest_paths]\n",
    "manifest_dfs = [pd.DataFrame(manifest_json) for manifest_json in manifest_jsons]\n",
    "manifests_df = pd.concat(manifest_dfs, axis=0)\n",
    "\n",
    "df = manifests_df.reset_index(drop=True).copy()\n",
    "df['reader_id'] = df['audio_filepath'].apply(lambda x: x.split('/')[1].split('_')[0])\n",
    "readers_list = [reader_id for reader_id in df.reader_id.unique()]\n",
    "readers_dict = {reader_id: str(readers_list.index(reader_id)) for reader_id in readers_list}\n",
    "df['reader_id_norm'] = df['reader_id'].apply(lambda x: readers_dict[x])\n",
    "df['mel_path'] = 'mels/' + df.index.astype('string') + '_' + df['dataset_type'] + '_' + df['reader_id']\n",
    "df['txt_line'] = df['mel_path'] + '|' + df['text'] + '|' + df['reader_id_norm'] + '\\n'\n",
    "\n",
    "df = df[['dataset_type', 'reader_id', 'reader_id_norm', 'text', 'audio_filepath', 'mel_path', 'txt_line']]\n",
    "df = df[df['dataset_type'] != 'dev']\n",
    "df.head()"
   ]
  },
  {
   "cell_type": "code",
   "execution_count": null,
   "id": "c10b2be5",
   "metadata": {},
   "outputs": [],
   "source": [
    "df.shape"
   ]
  },
  {
   "cell_type": "markdown",
   "id": "02a1ed03",
   "metadata": {},
   "source": [
    "# Создание мелспектограмм и текстовых файлов"
   ]
  },
  {
   "cell_type": "code",
   "execution_count": null,
   "id": "8145e139",
   "metadata": {},
   "outputs": [],
   "source": [
    "os.mkdir('./hifitts')\n",
    "os.mkdir('./hifitts/mels')\n",
    "\n",
    "tmp_df = df.copy()\n",
    "tmp_df['line_for_create_mel'] = \\\n",
    "    tmp_df['audio_filepath'] + '&' + \\\n",
    "    tmp_df['mel_path'] + '&' + \\\n",
    "    tmp_df['dataset_type'] + '&' + \\\n",
    "    tmp_df['txt_line']\n",
    "tmp_df['line_for_create_mel'].apply(lambda x: flac_to_mel(\n",
    "    x.split('&')[0], \n",
    "    x.split('&')[1], \n",
    "    x.split('&')[2],\n",
    "    x.split('&')[3],\n",
    "))"
   ]
  }
 ],
 "metadata": {
  "kernelspec": {
   "display_name": "Python 3 (ipykernel)",
   "language": "python",
   "name": "python3"
  },
  "language_info": {
   "codemirror_mode": {
    "name": "ipython",
    "version": 3
   },
   "file_extension": ".py",
   "mimetype": "text/x-python",
   "name": "python",
   "nbconvert_exporter": "python",
   "pygments_lexer": "ipython3",
   "version": "3.7.13"
  }
 },
 "nbformat": 4,
 "nbformat_minor": 5
}
