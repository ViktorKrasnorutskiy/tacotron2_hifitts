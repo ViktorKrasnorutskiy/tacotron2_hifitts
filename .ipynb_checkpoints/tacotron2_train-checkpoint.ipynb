{
 "cells": [
  {
   "cell_type": "markdown",
   "metadata": {
    "colab_type": "text",
    "id": "view-in-github"
   },
   "source": [
    "<a href=\"https://colab.research.google.com/github/ViktorKrasnorutskiy/tacotron2_hifitts/blob/main/tacotron2_train.ipynb\" target=\"_parent\"><img src=\"https://colab.research.google.com/assets/colab-badge.svg\" alt=\"Open In Colab\"/></a>"
   ]
  },
  {
   "cell_type": "markdown",
   "metadata": {
    "id": "36ClDRimlaBA"
   },
   "source": [
    "Ссылка на репозиторий со всеми измененными файлами - [github/tacotron2_hifitts](https://github.com/ViktorKrasnorutskiy/tacotron2_hifitts)"
   ]
  },
  {
   "cell_type": "code",
   "execution_count": null,
   "metadata": {
    "id": "-8dk0t6rlPRH"
   },
   "outputs": [],
   "source": [
    "!nvidia-smi -L"
   ]
  },
  {
   "cell_type": "code",
   "execution_count": null,
   "metadata": {
    "id": "RKlr8QpcljZL"
   },
   "outputs": [],
   "source": [
    "import zipfile\n",
    "import os\n",
    "\n",
    "from google.colab import drive\n",
    "drive.mount('drive')"
   ]
  },
  {
   "cell_type": "code",
   "execution_count": null,
   "metadata": {
    "id": "x8KzxX34llhM"
   },
   "outputs": [],
   "source": [
    "%tensorflow_version 1.x\n",
    "import os\n",
    "!git clone -q https://github.com/NVIDIA/tacotron2\n",
    "os.chdir('tacotron2')\n",
    "!git submodule init\n",
    "!git submodule update\n",
    "!pip install -q unidecode tensorboardX"
   ]
  },
  {
   "cell_type": "code",
   "execution_count": null,
   "metadata": {},
   "outputs": [],
   "source": [
    "zip_file = '/content/drive/MyDrive/data/part_1/mels.zip'\n",
    "\n",
    "z = zipfile.ZipFile(zip_file, 'r')\n",
    "z.extractall()"
   ]
  },
  {
   "cell_type": "code",
   "execution_count": null,
   "metadata": {
    "id": "rMcifVc6l2m3"
   },
   "outputs": [],
   "source": [
    "!python train.py --output_directory=outdir --log_directory=logdir"
   ]
  },
  {
   "cell_type": "code",
   "execution_count": null,
   "metadata": {
    "id": "Frf1ic7xURxD"
   },
   "outputs": [],
   "source": [
    "# обход автоблокировки\n",
    "'''\n",
    "function ClickConnect(){\n",
    "    console.log(\"Clicked on connect button\"); \n",
    "    document.querySelector(\"colab-connect-button\").click()\n",
    "}\n",
    "setInterval(ClickConnect,60000)\n",
    "'''"
   ]
  }
 ],
 "metadata": {
  "colab": {
   "authorship_tag": "ABX9TyPIK/1JDT8Y0SX5LH4C5zU4",
   "collapsed_sections": [],
   "include_colab_link": true,
   "name": "tacotron2_train.ipynb",
   "provenance": []
  },
  "kernelspec": {
   "display_name": "Python 3",
   "language": "python",
   "name": "python3"
  },
  "language_info": {
   "codemirror_mode": {
    "name": "ipython",
    "version": 3
   },
   "file_extension": ".py",
   "mimetype": "text/x-python",
   "name": "python",
   "nbconvert_exporter": "python",
   "pygments_lexer": "ipython3",
   "version": "3.8.3"
  }
 },
 "nbformat": 4,
 "nbformat_minor": 1
}
