{
  "nbformat": 4,
  "nbformat_minor": 0,
  "metadata": {
    "colab": {
      "name": "tacotron2_train.ipynb",
      "provenance": [],
      "collapsed_sections": [],
      "authorship_tag": "ABX9TyPIK/1JDT8Y0SX5LH4C5zU4",
      "include_colab_link": true
    },
    "kernelspec": {
      "name": "python3",
      "display_name": "Python 3"
    },
    "language_info": {
      "name": "python"
    }
  },
  "cells": [
    {
      "cell_type": "markdown",
      "metadata": {
        "id": "view-in-github",
        "colab_type": "text"
      },
      "source": [
        "<a href=\"https://colab.research.google.com/github/ViktorKrasnorutskiy/tacotron2_hifitts/blob/main/tacotron2_train.ipynb\" target=\"_parent\"><img src=\"https://colab.research.google.com/assets/colab-badge.svg\" alt=\"Open In Colab\"/></a>"
      ]
    },
    {
      "cell_type": "markdown",
      "source": [
        "# Подготовка датасета.\n",
        "1. Скачать датасет hifitts на свой ПК (~41gb) - http://www.openslr.org/109/\n",
        "2. Распаковать содержимое архива, внутри распакованной директории создать папку /splitted_dataset, положить внутрь скрипт dataset_splitter.py и запустить его.\n",
        "\n",
        "Ссылка на репозиторий со всеми необходимыми файлами - [github/tacotron2_hifitts](https://github.com/ViktorKrasnorutskiy/tacotron2_hifitts)"
      ],
      "metadata": {
        "id": "36ClDRimlaBA"
      }
    },
    {
      "cell_type": "code",
      "execution_count": null,
      "metadata": {
        "id": "-8dk0t6rlPRH"
      },
      "outputs": [],
      "source": [
        "!nvidia-smi -L"
      ]
    },
    {
      "cell_type": "code",
      "source": [
        "from google.colab import drive\n",
        "drive.mount('drive')"
      ],
      "metadata": {
        "id": "RKlr8QpcljZL"
      },
      "execution_count": null,
      "outputs": []
    },
    {
      "cell_type": "code",
      "source": [
        "%tensorflow_version 1.x\n",
        "import os\n",
        "!git clone -q https://github.com/NVIDIA/tacotron2\n",
        "os.chdir('tacotron2')\n",
        "!git submodule init\n",
        "!git submodule update\n",
        "!pip install -q unidecode tensorboardX"
      ],
      "metadata": {
        "id": "x8KzxX34llhM"
      },
      "execution_count": null,
      "outputs": []
    },
    {
      "cell_type": "markdown",
      "source": [
        "Импорт списков hifitts_train.txt, hifitts_test.txt, hifitts_dev.txt в директорию ./tacotron2/hifitts/ и аудио файлов в ./tacotron2/hifitts/audio/ (нужно создать).\n",
        "\n",
        "Так-же необходимо заменить файлы utils.py, data_utils.py, hparams.py, model.py, train.py."
      ],
      "metadata": {
        "id": "C8LNGWvCl1Mz"
      }
    },
    {
      "cell_type": "code",
      "source": [
        "!python train.py --output_directory=outdir --log_directory=logdir"
      ],
      "metadata": {
        "id": "rMcifVc6l2m3"
      },
      "execution_count": null,
      "outputs": []
    },
    {
      "cell_type": "code",
      "source": [
        ""
      ],
      "metadata": {
        "id": "Frf1ic7xURxD"
      },
      "execution_count": null,
      "outputs": []
    }
  ]
}